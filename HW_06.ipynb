{
  "nbformat": 4,
  "nbformat_minor": 0,
  "metadata": {
    "colab": {
      "provenance": [],
      "toc_visible": true,
      "mount_file_id": "11Tkr1TCNIDMzlWpVV-ZaP5r5CebbORbx",
      "authorship_tag": "ABX9TyMtN2Zt2811pDnx3ft3ris2",
      "include_colab_link": true
    },
    "kernelspec": {
      "name": "python3",
      "display_name": "Python 3"
    },
    "language_info": {
      "name": "python"
    }
  },
  "cells": [
    {
      "cell_type": "markdown",
      "metadata": {
        "id": "view-in-github",
        "colab_type": "text"
      },
      "source": [
        "<a href=\"https://colab.research.google.com/github/SerhiiAndreiko/HW_DATA_06/blob/main/HW_06.ipynb\" target=\"_parent\"><img src=\"https://colab.research.google.com/assets/colab-badge.svg\" alt=\"Open In Colab\"/></a>"
      ]
    },
    {
      "cell_type": "markdown",
      "source": [
        "# Завдання 1"
      ],
      "metadata": {
        "id": "Y_RG03Cv9dB1"
      }
    },
    {
      "cell_type": "markdown",
      "source": [
        "\n",
        "У цьому завданні вам потрібно завантажити ось [цей](https://drive.google.com/file/d/1Zvz20Iqeia1eEtFbGa3NcIrt_SNSimP6/view) датасет. Тут ви знайдете 2 файли - з двовимірним датасетом та датасетом mnist. Для кожного з них застосуйте алгоритм K-means для кластеризації. Щоб знайти оптимальну кількість кластерів, скористайтесь ліктевим методом."
      ],
      "metadata": {
        "id": "qRgjjMqk917Z"
      }
    },
    {
      "cell_type": "code",
      "source": [
        "import pandas as pd\n",
        "\n",
        "\n",
        "dataset_2d = pd.read_csv('/content/drive/MyDrive/Colab Notebooks/data/data_2d.csv')\n",
        "dataset_mnist = pd.read_csv('/content/drive/MyDrive/Colab Notebooks/data/mnist.csv')\n"
      ],
      "metadata": {
        "id": "TMIGLzII-PZJ"
      },
      "execution_count": 55,
      "outputs": []
    },
    {
      "cell_type": "code",
      "source": [
        "dataset_2d.info()"
      ],
      "metadata": {
        "id": "5R9B9ZVCBE_1"
      },
      "execution_count": null,
      "outputs": []
    },
    {
      "cell_type": "code",
      "source": [
        "dataset_mnist.info()\n"
      ],
      "metadata": {
        "id": "-DLPmtMGBOYz"
      },
      "execution_count": null,
      "outputs": []
    },
    {
      "cell_type": "code",
      "source": [
        "first_image = dataset_mnist.iloc[0, 1:].values.reshape(28, 28)\n",
        "plt.imshow(first_image, cmap='gray')\n",
        "plt.show()\n"
      ],
      "metadata": {
        "id": "hqkoDcxUXiC-"
      },
      "execution_count": null,
      "outputs": []
    },
    {
      "cell_type": "markdown",
      "source": [
        "**алгоритм K-means для кластеризації. Щоб знайти оптимальну кількість кластерів, скористаємось ліктевим методом.**"
      ],
      "metadata": {
        "id": "sxPM7vbmDprR"
      }
    },
    {
      "cell_type": "code",
      "source": [
        "from sklearn.cluster import KMeans\n",
        "import matplotlib.pyplot as plt\n",
        "\n",
        "inertia_values = []\n",
        "\n",
        "# Визначення можливих кількостей кластерів\n",
        "possible_k_values = range(1, 200)\n",
        "\n",
        "# Обчислення інерції для кожної кількості кластерів\n",
        "for k in possible_k_values:\n",
        "    kmeans = KMeans(n_clusters=k, random_state=0, n_init=\"auto\").fit(dataset_2d)\n",
        "    inertia_values.append(kmeans.inertia_)\n",
        "\n",
        "# Візуалізація методу ліктя\n",
        "plt.figure(figsize=(12, 8))\n",
        "plt.plot(possible_k_values, inertia_values, marker='o')\n",
        "plt.title('Elbow Method for dataset-2D')\n",
        "plt.xlabel('Number of Clusters (k)')\n",
        "plt.ylabel('Inertia')\n",
        "plt.grid(True)\n",
        "plt.show()\n"
      ],
      "metadata": {
        "id": "bdx_phGMDrx5"
      },
      "execution_count": null,
      "outputs": []
    },
    {
      "cell_type": "code",
      "source": [
        "# Визначення можливих кількостей кластерів\n",
        "possible_k_values = range(1, 21)\n",
        "inertia_values = []\n",
        "\n",
        "# Обчислення інерції для кожної кількості кластерів\n",
        "for k in possible_k_values:\n",
        "    kmeans = KMeans(n_clusters=k, random_state=0, n_init=\"auto\").fit(dataset_2d)\n",
        "    inertia_values.append(kmeans.inertia_)\n",
        "\n",
        "# Візуалізація методу ліктя\n",
        "plt.figure(figsize=(12, 8))\n",
        "plt.plot(possible_k_values, inertia_values, marker='o')\n",
        "plt.title('Elbow Method for dataset-2D')\n",
        "plt.xlabel('Number of Clusters (k)')\n",
        "plt.ylabel('Inertia')\n",
        "plt.grid(True)\n",
        "plt.show()\n",
        "\n"
      ],
      "metadata": {
        "id": "WhlE6-cXGu0l"
      },
      "execution_count": null,
      "outputs": []
    },
    {
      "cell_type": "markdown",
      "source": [
        "Використаємо підхід PCA який може бути корисним для вибору кількості головних компонентів, які слід використовувати для зменшення розмірності даних перед застосуванням методу K-means."
      ],
      "metadata": {
        "id": "lpq3xll7LKzq"
      }
    },
    {
      "cell_type": "code",
      "source": [
        "from sklearn.decomposition import PCA\n",
        "from sklearn.preprocessing import StandardScaler\n",
        "import matplotlib.pyplot as plt\n",
        "\n",
        "# Нормалізація даних\n",
        "scaler = StandardScaler()\n",
        "normalized_data = scaler.fit_transform(dataset_mnist)\n",
        "\n",
        "# PCA\n",
        "pca = PCA()\n",
        "pca_result = pca.fit_transform(normalized_data)\n",
        "explained_variance_ratio = pca.explained_variance_ratio_\n",
        "\n",
        "# Візуалізація результатів\n",
        "plt.figure(figsize=(15, 9))\n",
        "plt.grid(True)\n",
        "plt.bar(range(1, len(explained_variance_ratio) + 1), explained_variance_ratio, alpha=0.7, align='center')\n",
        "plt.xlabel('Principal Components')\n",
        "plt.ylabel('Explained Variance Ratio')\n",
        "plt.title('Explained Variance Ratio for Each Principal Component')\n",
        "plt.show()\n",
        "\n"
      ],
      "metadata": {
        "id": "xxPTQojGLbzg"
      },
      "execution_count": null,
      "outputs": []
    },
    {
      "cell_type": "code",
      "source": [
        "# Вибір кількості головних компонентів, які пояснюють 80% дисперсії\n",
        "cumulative_variance_ratio = 0\n",
        "n_components = 0\n",
        "\n",
        "for explained_variance in explained_variance_ratio:\n",
        "    cumulative_variance_ratio += explained_variance\n",
        "    n_components += 1\n",
        "    if cumulative_variance_ratio >= 0.8:\n",
        "        break\n",
        "\n",
        "print(\"Кількість головних компонентів, що пояснюють 80% дисперсії:\", n_components)\n"
      ],
      "metadata": {
        "id": "rSW00K4DM8Ar"
      },
      "execution_count": null,
      "outputs": []
    },
    {
      "cell_type": "code",
      "source": [
        "inertia_values = []\n",
        "\n",
        "possible_k_values = range(1, 64)\n",
        "\n",
        "for k in possible_k_values:\n",
        "    kmeans = KMeans(n_clusters=k, random_state=0, n_init=\"auto\").fit(dataset_mnist)\n",
        "    inertia_values.append(kmeans.inertia_)\n",
        "\n",
        "# Візуалізація методу ліктя\n",
        "plt.plot(possible_k_values, inertia_values, marker='o')\n",
        "plt.title('Elbow Method for Optimal k')\n",
        "plt.xlabel('Number of Clusters (k)')\n",
        "plt.ylabel('Inertia')\n",
        "plt.show()"
      ],
      "metadata": {
        "id": "94E5Y4MaNvZQ"
      },
      "execution_count": null,
      "outputs": []
    },
    {
      "cell_type": "code",
      "source": [
        "import matplotlib.pyplot as plt\n",
        "from sklearn.cluster import KMeans\n",
        "\n",
        "# Вибір оптимальної кількості кластерів\n",
        "optimal_k = 7\n",
        "\n",
        "kmeans = KMeans(n_clusters=optimal_k, random_state=0, init='k-means++', n_init=10, max_iter=300).fit(dataset_2d)\n",
        "\n",
        "print(\"Назви колонок:\", dataset_2d.columns)\n",
        "\n",
        "plt.scatter(dataset_2d.iloc[:, 1], dataset_2d.iloc[:, 2], c=kmeans.labels_, cmap='viridis', marker='o', s=50, edgecolor='k')\n",
        "plt.scatter(kmeans.cluster_centers_[:, 1], kmeans.cluster_centers_[:, 2], c='red', marker='x', s=200, linewidths=3)\n",
        "\n",
        "\n",
        "\n",
        "plt.title('KMeans Clustering with Centers')\n",
        "plt.xlabel(dataset_2d.columns[0])\n",
        "plt.ylabel(dataset_2d.columns[1])\n",
        "plt.show()\n",
        "\n",
        "\n"
      ],
      "metadata": {
        "id": "FHRTjFF2P_oW"
      },
      "execution_count": null,
      "outputs": []
    },
    {
      "cell_type": "code",
      "source": [
        "import matplotlib.pyplot as plt\n",
        "from sklearn.decomposition import PCA\n",
        "from sklearn.manifold import TSNE\n",
        "\n",
        "\n",
        "data_for_tsne_mnist = dataset_mnist.iloc[:, 0:]\n",
        "\n",
        "\n",
        "pca_mnist = PCA(n_components=499)\n",
        "pca_result_mnist = pca_mnist.fit_transform(data_for_tsne_mnist)\n",
        "\n",
        "tsne_mnist = TSNE(n_components=2, random_state=0)\n",
        "tsne_result_mnist = tsne_mnist.fit_transform(pca_result_mnist)\n",
        "\n",
        "plt.figure(figsize=(12, 8))\n",
        "plt.grid(2)\n",
        "plt.scatter(tsne_result_mnist[:, 0], tsne_result_mnist[:, 1], marker='o', s=20, c='r', cmap='viridis', edgecolor='k')\n",
        "\n",
        "plt.title('t-SNE Visualization of the MNIST Dataset')\n",
        "plt.show()"
      ],
      "metadata": {
        "id": "rYITyjHBSL2h"
      },
      "execution_count": null,
      "outputs": []
    },
    {
      "cell_type": "code",
      "source": [
        "import numpy as np\n",
        "import matplotlib.pyplot as plt\n",
        "from sklearn.decomposition import PCA\n",
        "from sklearn.cluster import KMeans\n",
        "from mlxtend.plotting import plot_decision_regions\n",
        "\n",
        "def visualize_clustering_results(data_for_clustering, n_clusters):\n",
        "    # Зменшення розмірності за допомогою PCA\n",
        "    pca = PCA(n_components=2)\n",
        "    data_pca = pca.fit_transform(data_for_clustering)\n",
        "\n",
        "    # Кластеризація з використанням KMeans\n",
        "    kmeans = KMeans(n_clusters=n_clusters, random_state=0, n_init=\"auto\").fit(data_pca)\n",
        "\n",
        "    # Візуалізація результатів з границями кластерів\n",
        "    plt.figure(figsize=(15, 11))\n",
        "    plot_decision_regions(X=data_pca, y=kmeans.labels_, clf=kmeans, legend=1)\n",
        "    plt.scatter(kmeans.cluster_centers_[:, 0], kmeans.cluster_centers_[:, 1], marker='X', s=200, c='red', label='Cluster Centers', edgecolor='black')\n",
        "\n",
        "    plt.title('KMeans Clustering with Cluster Boundaries')\n",
        "    plt.show()\n",
        "\n",
        "# Вибір датасету для кластеризації\n",
        "data_for_clustering = dataset_2d\n",
        "\n",
        "# Кількість кластерів для кластеризації\n",
        "n_clusters = 7\n",
        "\n",
        "# Візуалізація результатів кластеризації\n",
        "visualize_clustering_results(data_for_clustering, n_clusters)\n"
      ],
      "metadata": {
        "id": "9ZyAjrqJURHw"
      },
      "execution_count": null,
      "outputs": []
    },
    {
      "cell_type": "code",
      "source": [
        "import numpy as np\n",
        "import matplotlib.pyplot as plt\n",
        "from sklearn.decomposition import PCA\n",
        "from sklearn.cluster import KMeans\n",
        "from mlxtend.plotting import plot_decision_regions\n",
        "\n",
        "# Функція для візуалізації результатів кластеризації\n",
        "def visualize_clustering_results(data_for_clustering, n_clusters):\n",
        "    # Зменшення розмірності за допомогою PCA\n",
        "    pca = PCA(n_components=2)\n",
        "    data_pca = pca.fit_transform(data_for_clustering)\n",
        "\n",
        "    # Кластеризація з використанням KMeans\n",
        "    kmeans = KMeans(n_clusters=n_clusters, random_state=0, n_init=\"auto\").fit(data_pca)\n",
        "\n",
        "    # Візуалізація результатів з границями кластерів\n",
        "    plt.figure(figsize=(15, 11))\n",
        "    plot_decision_regions(X=data_pca, y=kmeans.labels_, clf=kmeans, legend=1)\n",
        "    plt.scatter(kmeans.cluster_centers_[:, 0], kmeans.cluster_centers_[:, 1], marker='X', s=200, c='red', label='Cluster Centers', edgecolor='black')\n",
        "\n",
        "    plt.title('KMeans Clustering with Cluster Boundaries')\n",
        "    plt.show()\n",
        "\n",
        "# Вибір датасету для кластеризації\n",
        "data_for_clustering = dataset_mnist\n",
        "# Кількість кластерів для кластеризації\n",
        "n_clusters = 10\n",
        "\n",
        "# Візуалізація результатів кластеризації\n",
        "visualize_clustering_results(data_for_clustering, n_clusters)\n"
      ],
      "metadata": {
        "id": "MZICmJg3UysK"
      },
      "execution_count": null,
      "outputs": []
    }
  ]
}